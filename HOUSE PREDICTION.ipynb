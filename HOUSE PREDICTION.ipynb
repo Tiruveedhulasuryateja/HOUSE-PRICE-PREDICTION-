{
 "cells": [
  {
   "cell_type": "code",
   "execution_count": 7,
   "id": "602a5d40",
   "metadata": {},
   "outputs": [],
   "source": [
    "import pandas as pd \n",
    "import matplotlib.pyplot as plt\n",
    "import numpy as np\n",
    "from sklearn.model_selection import train_test_split \n",
    "from sklearn.model_selection import StratifiedShuffleSplit\n",
    "from pandas.plotting import scatter_matrix"
   ]
  },
  {
   "cell_type": "code",
   "execution_count": 8,
   "id": "b19d09f3",
   "metadata": {},
   "outputs": [
    {
     "data": {
      "text/html": [
       "<div>\n",
       "<style scoped>\n",
       "    .dataframe tbody tr th:only-of-type {\n",
       "        vertical-align: middle;\n",
       "    }\n",
       "\n",
       "    .dataframe tbody tr th {\n",
       "        vertical-align: top;\n",
       "    }\n",
       "\n",
       "    .dataframe thead th {\n",
       "        text-align: right;\n",
       "    }\n",
       "</style>\n",
       "<table border=\"1\" class=\"dataframe\">\n",
       "  <thead>\n",
       "    <tr style=\"text-align: right;\">\n",
       "      <th></th>\n",
       "      <th>crim</th>\n",
       "      <th>zn</th>\n",
       "      <th>indus</th>\n",
       "      <th>chas</th>\n",
       "      <th>nox</th>\n",
       "      <th>rm</th>\n",
       "      <th>age</th>\n",
       "      <th>dis</th>\n",
       "      <th>rad</th>\n",
       "      <th>tax</th>\n",
       "      <th>ptratio</th>\n",
       "      <th>b</th>\n",
       "      <th>lstat</th>\n",
       "      <th>medv</th>\n",
       "    </tr>\n",
       "  </thead>\n",
       "  <tbody>\n",
       "    <tr>\n",
       "      <th>0</th>\n",
       "      <td>0.00632</td>\n",
       "      <td>18.0</td>\n",
       "      <td>2.31</td>\n",
       "      <td>0</td>\n",
       "      <td>0.538</td>\n",
       "      <td>6.575</td>\n",
       "      <td>65.2</td>\n",
       "      <td>4.0900</td>\n",
       "      <td>1</td>\n",
       "      <td>296</td>\n",
       "      <td>15.3</td>\n",
       "      <td>396.90</td>\n",
       "      <td>4.98</td>\n",
       "      <td>24.0</td>\n",
       "    </tr>\n",
       "    <tr>\n",
       "      <th>1</th>\n",
       "      <td>0.02731</td>\n",
       "      <td>0.0</td>\n",
       "      <td>7.07</td>\n",
       "      <td>0</td>\n",
       "      <td>0.469</td>\n",
       "      <td>6.421</td>\n",
       "      <td>78.9</td>\n",
       "      <td>4.9671</td>\n",
       "      <td>2</td>\n",
       "      <td>242</td>\n",
       "      <td>17.8</td>\n",
       "      <td>396.90</td>\n",
       "      <td>9.14</td>\n",
       "      <td>21.6</td>\n",
       "    </tr>\n",
       "    <tr>\n",
       "      <th>2</th>\n",
       "      <td>0.02729</td>\n",
       "      <td>0.0</td>\n",
       "      <td>7.07</td>\n",
       "      <td>0</td>\n",
       "      <td>0.469</td>\n",
       "      <td>7.185</td>\n",
       "      <td>61.1</td>\n",
       "      <td>4.9671</td>\n",
       "      <td>2</td>\n",
       "      <td>242</td>\n",
       "      <td>17.8</td>\n",
       "      <td>392.83</td>\n",
       "      <td>4.03</td>\n",
       "      <td>34.7</td>\n",
       "    </tr>\n",
       "    <tr>\n",
       "      <th>3</th>\n",
       "      <td>0.03237</td>\n",
       "      <td>0.0</td>\n",
       "      <td>2.18</td>\n",
       "      <td>0</td>\n",
       "      <td>0.458</td>\n",
       "      <td>6.998</td>\n",
       "      <td>45.8</td>\n",
       "      <td>6.0622</td>\n",
       "      <td>3</td>\n",
       "      <td>222</td>\n",
       "      <td>18.7</td>\n",
       "      <td>394.63</td>\n",
       "      <td>2.94</td>\n",
       "      <td>33.4</td>\n",
       "    </tr>\n",
       "    <tr>\n",
       "      <th>4</th>\n",
       "      <td>0.06905</td>\n",
       "      <td>0.0</td>\n",
       "      <td>2.18</td>\n",
       "      <td>0</td>\n",
       "      <td>0.458</td>\n",
       "      <td>7.147</td>\n",
       "      <td>54.2</td>\n",
       "      <td>6.0622</td>\n",
       "      <td>3</td>\n",
       "      <td>222</td>\n",
       "      <td>18.7</td>\n",
       "      <td>396.90</td>\n",
       "      <td>5.33</td>\n",
       "      <td>36.2</td>\n",
       "    </tr>\n",
       "  </tbody>\n",
       "</table>\n",
       "</div>"
      ],
      "text/plain": [
       "      crim    zn  indus  chas    nox     rm   age     dis  rad  tax  ptratio  \\\n",
       "0  0.00632  18.0   2.31     0  0.538  6.575  65.2  4.0900    1  296     15.3   \n",
       "1  0.02731   0.0   7.07     0  0.469  6.421  78.9  4.9671    2  242     17.8   \n",
       "2  0.02729   0.0   7.07     0  0.469  7.185  61.1  4.9671    2  242     17.8   \n",
       "3  0.03237   0.0   2.18     0  0.458  6.998  45.8  6.0622    3  222     18.7   \n",
       "4  0.06905   0.0   2.18     0  0.458  7.147  54.2  6.0622    3  222     18.7   \n",
       "\n",
       "        b  lstat  medv  \n",
       "0  396.90   4.98  24.0  \n",
       "1  396.90   9.14  21.6  \n",
       "2  392.83   4.03  34.7  \n",
       "3  394.63   2.94  33.4  \n",
       "4  396.90   5.33  36.2  "
      ]
     },
     "execution_count": 8,
     "metadata": {},
     "output_type": "execute_result"
    }
   ],
   "source": [
    "housing  = pd.read_csv(\"C:/Users/surya/Downloads/Housing1.csv\")\n",
    "housing.head()"
   ]
  },
  {
   "cell_type": "code",
   "execution_count": 9,
   "id": "3493bb1a",
   "metadata": {},
   "outputs": [
    {
     "name": "stdout",
     "output_type": "stream",
     "text": [
      "Rows in train set: 404 \n",
      " Rows in test set: 102\n"
     ]
    }
   ],
   "source": [
    "train_set , test_set = train_test_split(housing , test_size = 0.2 , random_state = 42)\n",
    "\n",
    "print(f\"Rows in train set: {len(train_set)} \\n Rows in test set: {len(test_set)}\")"
   ]
  },
  {
   "cell_type": "code",
   "execution_count": 10,
   "id": "ec8d28d1",
   "metadata": {},
   "outputs": [],
   "source": [
    "split = StratifiedShuffleSplit(n_splits=1, test_size=0.2 , random_state=42)\n",
    "for train_index , test_index in split.split(housing , housing['chas']):\n",
    "    strat_train_set = housing.loc[train_index]\n",
    "    strat_test_set = housing.loc[test_index]"
   ]
  },
  {
   "cell_type": "code",
   "execution_count": 11,
   "id": "0b8ba49e",
   "metadata": {},
   "outputs": [
    {
     "data": {
      "text/plain": [
       "(404, 14)"
      ]
     },
     "execution_count": 11,
     "metadata": {},
     "output_type": "execute_result"
    }
   ],
   "source": [
    "housing = strat_train_set.copy()\n",
    "housing.shape"
   ]
  },
  {
   "cell_type": "code",
   "execution_count": 12,
   "id": "0146be96",
   "metadata": {},
   "outputs": [],
   "source": [
    "housing = strat_train_set.drop(\"medv\" , axis=1)\n",
    "housing_labels = strat_train_set[\"medv\"].copy()"
   ]
  },
  {
   "cell_type": "code",
   "execution_count": 13,
   "id": "ac2a05cb",
   "metadata": {},
   "outputs": [],
   "source": [
    "#pipelines \n",
    "from sklearn.pipeline import Pipeline\n",
    "from sklearn.preprocessing import StandardScaler\n",
    "from sklearn.impute import SimpleImputer as Imputer\n",
    "\n",
    "my_pipline = Pipeline([\n",
    "    ('imputer', Imputer(strategy=\"median\")),\n",
    "    ('std_scaler' , StandardScaler())\n",
    "])"
   ]
  },
  {
   "cell_type": "code",
   "execution_count": 14,
   "id": "418b1416",
   "metadata": {},
   "outputs": [
    {
     "data": {
      "text/plain": [
       "(404, 13)"
      ]
     },
     "execution_count": 14,
     "metadata": {},
     "output_type": "execute_result"
    }
   ],
   "source": [
    "housing_num_tr = my_pipline.fit_transform(housing)\n",
    "housing_num_tr.shape"
   ]
  },
  {
   "cell_type": "code",
   "execution_count": 15,
   "id": "8b35402b",
   "metadata": {},
   "outputs": [
    {
     "data": {
      "text/plain": [
       "LinearRegression()"
      ]
     },
     "execution_count": 15,
     "metadata": {},
     "output_type": "execute_result"
    }
   ],
   "source": [
    "from sklearn.linear_model import LinearRegression\n",
    "model = LinearRegression()\n",
    "model.fit(housing_num_tr , housing_labels)"
   ]
  },
  {
   "cell_type": "code",
   "execution_count": 16,
   "id": "84e7143e",
   "metadata": {},
   "outputs": [
    {
     "data": {
      "text/plain": [
       "array([23.94996893, 27.21690623, 20.58079789, 25.04088721, 23.76177838])"
      ]
     },
     "execution_count": 16,
     "metadata": {},
     "output_type": "execute_result"
    }
   ],
   "source": [
    "some_data = housing.iloc[:5]\n",
    "some_labels = housing_labels.iloc[:5]\n",
    "prepared_data = my_pipline.transform(some_data)\n",
    "model.predict(prepared_data)"
   ]
  },
  {
   "cell_type": "code",
   "execution_count": 17,
   "id": "12a0c04c",
   "metadata": {},
   "outputs": [
    {
     "data": {
      "text/plain": [
       "[21.9, 24.5, 16.7, 23.1, 23.0]"
      ]
     },
     "execution_count": 17,
     "metadata": {},
     "output_type": "execute_result"
    }
   ],
   "source": [
    "list(some_labels)"
   ]
  },
  {
   "cell_type": "code",
   "execution_count": 18,
   "id": "f31c99ce",
   "metadata": {},
   "outputs": [
    {
     "data": {
      "text/plain": [
       "4.829321492635759"
      ]
     },
     "execution_count": 18,
     "metadata": {},
     "output_type": "execute_result"
    }
   ],
   "source": [
    "from sklearn.metrics import mean_squared_error\n",
    "housing_predictions = model.predict(housing_num_tr)\n",
    "mse = mean_squared_error(housing_labels , housing_predictions)\n",
    "rmse = np.sqrt(mse)\n",
    "\n",
    "rmse"
   ]
  },
  {
   "cell_type": "code",
   "execution_count": 19,
   "id": "1e495db9",
   "metadata": {},
   "outputs": [
    {
     "data": {
      "text/plain": [
       "array([4.21674442, 4.26026816, 5.1071608 , 3.82881892, 5.34093789,\n",
       "       4.3785611 , 7.47384779, 5.48226252, 4.14885722, 6.0669122 ])"
      ]
     },
     "execution_count": 19,
     "metadata": {},
     "output_type": "execute_result"
    }
   ],
   "source": [
    "#cross validation \n",
    "\n",
    "from sklearn.model_selection import cross_val_score\n",
    "scores = cross_val_score(model,housing_num_tr, housing_labels, scoring= \"neg_mean_squared_error\", cv = 10)\n",
    "rmse_scores = np.sqrt(-scores)\n",
    "\n",
    "rmse_scores"
   ]
  },
  {
   "cell_type": "code",
   "execution_count": 20,
   "id": "9beab101",
   "metadata": {},
   "outputs": [
    {
     "name": "stdout",
     "output_type": "stream",
     "text": [
      "[4.21674442 4.26026816 5.1071608  3.82881892 5.34093789 4.3785611\n",
      " 7.47384779 5.48226252 4.14885722 6.0669122 ]\n",
      "mean :  5.030437102767305\n",
      "standard deviation  :  1.0607661158294834\n"
     ]
    }
   ],
   "source": [
    "def print_scores(scores):\n",
    "    print(scores)\n",
    "    print('mean : ', scores.mean())\n",
    "    print('standard deviation  : ', scores.std())\n",
    "    \n",
    "print_scores(rmse_scores)"
   ]
  },
  {
   "cell_type": "code",
   "execution_count": 21,
   "id": "1c50d552",
   "metadata": {},
   "outputs": [
    {
     "data": {
      "text/plain": [
       "['house_price.joblib']"
      ]
     },
     "execution_count": 21,
     "metadata": {},
     "output_type": "execute_result"
    }
   ],
   "source": [
    "from joblib import  dump, load \n",
    "dump(model , 'house_price.joblib')"
   ]
  },
  {
   "cell_type": "code",
   "execution_count": 22,
   "id": "5aee3aaf",
   "metadata": {},
   "outputs": [
    {
     "name": "stdout",
     "output_type": "stream",
     "text": [
      "[22.69663678 17.22600313 30.02303718 30.72767895  8.8510416  13.31467014\n",
      " 17.29615732 17.74740541 32.49300647 36.05576682 16.37971118  0.55763712\n",
      " 22.98231849 20.44805414 20.04676103 12.94089562 31.14959131 13.42383778\n",
      " 25.02732037 24.1680579  20.41663802 17.05356046 17.82193794 25.60370774\n",
      " 19.51063444 32.83523603 19.43372437 33.72021979  8.02922445 34.67322625\n",
      " 19.51326153 21.4383898  29.31429776 16.35664997 26.98334343 18.35632929\n",
      " 37.3141123  24.56541978 22.2186496  37.13515388 25.15918226 34.48919537\n",
      " 23.4490451  24.01052594 18.52058894 32.69367712 38.47436972 21.39603535\n",
      " 17.65060105 16.24434034 21.24195102 12.40190011 19.88486433 20.40554849\n",
      " 27.94261106 33.08938174 40.13445849 31.36345155 14.94004062 19.73822665\n",
      " 40.48290495 18.11543107 15.13757279 27.66353013 19.49519021 32.50860212\n",
      " 23.40912101 20.30670328 21.16556351 33.78834117 34.10260096 27.63685041\n",
      " 24.51460463 21.88751595 36.17309546  8.58176976 17.42620124 21.46806914\n",
      " 20.54643262 23.00127296 25.98733788 22.55143049 14.17757378 25.451263\n",
      " 21.23203376 23.80797989 19.88649127 21.7227537  22.48026877 21.69244395\n",
      " 17.789188   28.35984154  7.44414759 28.46210609 18.84246026 30.84367039\n",
      " 20.51847752 31.13081351 13.8716395  27.73404523 22.5464976  25.63506966] [16.5, 10.2, 30.1, 23.0, 14.4, 15.6, 19.4, 14.1, 30.3, 35.2, 23.1, 13.8, 25.0, 27.9, 19.5, 12.3, 32.2, 13.5, 23.8, 21.7, 19.2, 19.5, 10.4, 23.2, 18.6, 28.5, 15.2, 32.0, 7.2, 34.6, 20.1, 20.6, 23.6, 13.1, 23.8, 12.7, 43.1, 24.7, 22.2, 44.0, 28.1, 31.0, 21.7, 23.4, 19.5, 33.1, 41.7, 18.7, 19.9, 20.6, 21.2, 13.6, 20.3, 17.8, 27.1, 31.5, 50.0, 29.1, 18.9, 20.4, 50.0, 7.2, 17.2, 36.2, 14.6, 33.2, 23.8, 19.9, 21.5, 37.3, 27.0, 22.0, 24.3, 19.8, 33.3, 7.0, 19.4, 20.9, 21.1, 20.4, 22.2, 11.9, 11.7, 21.6, 19.7, 23.0, 16.7, 21.7, 20.6, 23.3, 19.6, 28.0, 5.0, 24.4, 20.8, 24.8, 21.8, 23.6, 19.0, 25.0, 20.3, 21.5]\n"
     ]
    }
   ],
   "source": [
    "#testing \n",
    "X_test = strat_test_set.drop(\"medv\" , axis=1)\n",
    "Y_test = strat_test_set[\"medv\"].copy()\n",
    "X_test_prepared = my_pipline.transform(X_test)\n",
    "final_predictions = model.predict(X_test_prepared)\n",
    "final_mse = mean_squared_error(Y_test , final_predictions)\n",
    "final_rmse = np.sqrt(final_mse)\n",
    "print(final_predictions , list(Y_test))"
   ]
  },
  {
   "cell_type": "code",
   "execution_count": 23,
   "id": "c2a0ab37",
   "metadata": {},
   "outputs": [
    {
     "data": {
      "text/plain": [
       "<matplotlib.collections.PathCollection at 0x2bad27a24c0>"
      ]
     },
     "execution_count": 23,
     "metadata": {},
     "output_type": "execute_result"
    },
    {
     "data": {
      "image/png": "[encoded data removed]",
      "text/plain": [
       "<Figure size 432x288 with 1 Axes>"
      ]
     },
     "metadata": {
      "needs_background": "light"
     },
     "output_type": "display_data"
    }
   ],
   "source": [
    "plt.scatter(housing_labels,housing_predictions)"
   ]
  },
  {
   "cell_type": "code",
   "execution_count": null,
   "id": "ef71e7c1",
   "metadata": {},
   "outputs": [],
   "source": []
  }
 ],
 "metadata": {
  "kernelspec": {
   "display_name": "Python 3 (ipykernel)",
   "language": "python",
   "name": "python3"
  },
  "language_info": {
   "codemirror_mode": {
    "name": "ipython",
    "version": 3
   },
   "file_extension": ".py",
   "mimetype": "text/x-python",
   "name": "python",
   "nbconvert_exporter": "python",
   "pygments_lexer": "ipython3",
   "version": "3.9.12"
  }
 },
 "nbformat": 4,
 "nbformat_minor": 5
}
